{
 "cells": [
  {
   "cell_type": "markdown",
   "metadata": {},
   "source": [
    "# Sentiment Analysis (News and Twitter Data)\n",
    "\n",
    "## 1. Realtime data will be analyzed (After running the code at that instant news and twits will be fetched)\n",
    "## 2. Data on certain topics will be analyzed"
   ]
  },
  {
   "cell_type": "markdown",
   "metadata": {},
   "source": [
    "# Let's move towards imports "
   ]
  },
  {
   "cell_type": "code",
   "execution_count": null,
   "metadata": {},
   "outputs": [],
   "source": [
    "from newspaper import  Article\n",
    "import newspaper\n",
    "import pandas as pd\n",
    "from textblob import TextBlob\n",
    "import nltk\n",
    "print(\"Done\")"
   ]
  },
  {
   "cell_type": "markdown",
   "metadata": {},
   "source": [
    "# Fetching the articles"
   ]
  },
  {
   "cell_type": "code",
   "execution_count": null,
   "metadata": {},
   "outputs": [],
   "source": [
    "site = newspaper.build(\"https://edition.cnn.com/?refresh=1\", memoize_articles=False)\n",
    "\n",
    "\n",
    "# get list of article URLs\n",
    "top_articles = site.article_urls()\n",
    "\n",
    "\n",
    "ar = top_articles[1:10]"
   ]
  },
  {
   "cell_type": "code",
   "execution_count": null,
   "metadata": {},
   "outputs": [],
   "source": [
    "len(top_articles)"
   ]
  },
  {
   "cell_type": "code",
   "execution_count": null,
   "metadata": {},
   "outputs": [],
   "source": [
    "# top_articles.remove('http://www.slideshare.net/Wisec/http-parameter-pollution-a-new-category-of-web-attacks')\n",
    "\n",
    "nltk.download('punkt')\n",
    "\n",
    "summaryList = []\n",
    "\n",
    "ar1 = ar[1]\n",
    "\n",
    "\n",
    "for article in ar:\n",
    "    articles = Article(article,language=\"en\")\n",
    "    articles.download()\n",
    "    articles.parse()\n",
    "    articles.nlp()\n",
    "    text = articles.summary\n",
    "    summaryList.append(text)\n",
    "\n",
    "# print(summaryList)"
   ]
  },
  {
   "cell_type": "code",
   "execution_count": null,
   "metadata": {},
   "outputs": [],
   "source": [
    "# Covid data\n",
    "\n"
   ]
  },
  {
   "cell_type": "markdown",
   "metadata": {},
   "source": [
    "## For Twitter data"
   ]
  },
  {
   "cell_type": "code",
   "execution_count": null,
   "metadata": {},
   "outputs": [],
   "source": [
    "df1 = pd.read_csv(\"CNN.csv\")\n",
    "\n",
    "df1.drop('Unnamed: 0',axis=1)"
   ]
  },
  {
   "cell_type": "code",
   "execution_count": null,
   "metadata": {},
   "outputs": [],
   "source": [
    "# covid twits\n",
    "df2 = pd.read_csv(\"covidTwit.csv\")\n",
    "\n",
    "df2.drop('Unnamed: 0',axis=1)"
   ]
  },
  {
   "cell_type": "markdown",
   "metadata": {},
   "source": [
    "# Analysing the sentiment "
   ]
  },
  {
   "cell_type": "code",
   "execution_count": null,
   "metadata": {},
   "outputs": [],
   "source": [
    "polarityList = []\n",
    "\n",
    "for summary in summaryList:\n",
    "    blob = TextBlob(summary)\n",
    "    sentiment = blob.sentiment.polarity\n",
    "    polarityList.append(sentiment)\n",
    "\n",
    "print(polarityList)\n",
    "\n",
    "# polarity 0 - neutral, 1 - positive, 2 - negative"
   ]
  },
  {
   "cell_type": "code",
   "execution_count": null,
   "metadata": {},
   "outputs": [],
   "source": [
    "twitSummaryList = []\n",
    "\n",
    "for text in df1['Tweet Text']:\n",
    "    blob = TextBlob(text)\n",
    "    sentiment = blob.sentiment.polarity\n",
    "    twitSummaryList.append(sentiment)\n",
    "\n",
    "twitSummaryList[:10]"
   ]
  },
  {
   "cell_type": "code",
   "execution_count": null,
   "metadata": {},
   "outputs": [],
   "source": []
  },
  {
   "cell_type": "markdown",
   "metadata": {},
   "source": [
    "# Making a final CSV"
   ]
  },
  {
   "cell_type": "code",
   "execution_count": null,
   "metadata": {},
   "outputs": [],
   "source": [
    "df = pd.DataFrame({'Summary Text':summaryList,'Sentiment Polarity':polarityList,'Twit_text': df1['Tweet Text'][1:10],'Sentiment Polarity Twitter': twitSummaryList[1:10]})\n",
    "\n",
    "df"
   ]
  },
  {
   "cell_type": "markdown",
   "metadata": {},
   "source": [
    "# Saving as CSV"
   ]
  },
  {
   "cell_type": "code",
   "execution_count": null,
   "metadata": {},
   "outputs": [],
   "source": [
    "df.to_csv(\"Analysis.csv\")"
   ]
  }
 ],
 "metadata": {
  "kernelspec": {
   "display_name": "Python 3.9.5 64-bit",
   "language": "python",
   "name": "python3"
  },
  "language_info": {
   "codemirror_mode": {
    "name": "ipython",
    "version": 3
   },
   "file_extension": ".py",
   "mimetype": "text/x-python",
   "name": "python",
   "nbconvert_exporter": "python",
   "pygments_lexer": "ipython3",
   "version": "3.9.5"
  },
  "orig_nbformat": 4,
  "vscode": {
   "interpreter": {
    "hash": "11938c6bc6919ae2720b4d5011047913343b08a43b18698fd82dedb0d4417594"
   }
  }
 },
 "nbformat": 4,
 "nbformat_minor": 2
}
