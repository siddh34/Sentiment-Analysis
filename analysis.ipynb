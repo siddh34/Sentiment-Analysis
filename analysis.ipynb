{
 "cells": [
  {
   "cell_type": "code",
   "execution_count": 8,
   "metadata": {},
   "outputs": [
    {
     "name": "stdout",
     "output_type": "stream",
     "text": [
      "Done\n"
     ]
    }
   ],
   "source": [
    "from newspaper import  Article\n",
    "import newspaper\n",
    "from textblob import TextBlob\n",
    "import nltk\n",
    "print(\"Done\")"
   ]
  },
  {
   "cell_type": "markdown",
   "metadata": {},
   "source": [
    "# Fetching the articles"
   ]
  },
  {
   "cell_type": "code",
   "execution_count": 2,
   "metadata": {},
   "outputs": [],
   "source": [
    "site = newspaper.build(\"https://edition.cnn.com/?refresh=1\", memoize_articles=False)\n",
    "\n",
    "\n",
    "# get list of article URLs\n",
    "top_articles = site.article_urls()\n",
    "\n",
    "\n",
    "ar = top_articles[1:10]"
   ]
  },
  {
   "cell_type": "code",
   "execution_count": 3,
   "metadata": {},
   "outputs": [
    {
     "data": {
      "text/plain": [
       "642"
      ]
     },
     "execution_count": 3,
     "metadata": {},
     "output_type": "execute_result"
    }
   ],
   "source": [
    "len(top_articles)"
   ]
  },
  {
   "cell_type": "code",
   "execution_count": 11,
   "metadata": {},
   "outputs": [
    {
     "name": "stderr",
     "output_type": "stream",
     "text": [
      "[nltk_data] Downloading package punkt to\n",
      "[nltk_data]     C:\\Users\\ADMIN\\AppData\\Roaming\\nltk_data...\n",
      "[nltk_data]   Package punkt is already up-to-date!\n"
     ]
    }
   ],
   "source": [
    "# top_articles.remove('http://www.slideshare.net/Wisec/http-parameter-pollution-a-new-category-of-web-attacks')\n",
    "\n",
    "nltk.download('punkt')\n",
    "\n",
    "summaryList = []\n",
    "\n",
    "ar1 = ar[1]\n",
    "\n",
    "\n",
    "for article in ar:\n",
    "    articles = Article(article,language=\"en\")\n",
    "    articles.download()\n",
    "    articles.parse()\n",
    "    articles.nlp()\n",
    "    text = articles.summary\n",
    "    summaryList.append(text)\n",
    "\n",
    "\n",
    "\n",
    "# print(summaryList)"
   ]
  },
  {
   "cell_type": "markdown",
   "metadata": {},
   "source": [
    "# Analysing the sentiment "
   ]
  },
  {
   "cell_type": "code",
   "execution_count": 15,
   "metadata": {},
   "outputs": [
    {
     "name": "stdout",
     "output_type": "stream",
     "text": [
      "[-0.1, -0.006666666666666669, 0.11590909090909092, 0.07727272727272727, 0.19761904761904758, -0.0035714285714285704, 0.07777777777777778, 0.25, 0.16249999999999998]\n"
     ]
    }
   ],
   "source": [
    "polarityList = []\n",
    "\n",
    "for summary in summaryList:\n",
    "    blob = TextBlob(summary)\n",
    "    sentiment = blob.sentiment.polarity\n",
    "    polarityList.append(sentiment)\n",
    "\n",
    "print(polarityList)\n",
    "\n",
    "# polarity 0 - neutral, 1 - positive, 2 - negative"
   ]
  },
  {
   "cell_type": "markdown",
   "metadata": {},
   "source": [
    "# Making a final CSV"
   ]
  },
  {
   "cell_type": "code",
   "execution_count": 18,
   "metadata": {},
   "outputs": [
    {
     "data": {
      "text/html": [
       "<div>\n",
       "<style scoped>\n",
       "    .dataframe tbody tr th:only-of-type {\n",
       "        vertical-align: middle;\n",
       "    }\n",
       "\n",
       "    .dataframe tbody tr th {\n",
       "        vertical-align: top;\n",
       "    }\n",
       "\n",
       "    .dataframe thead th {\n",
       "        text-align: right;\n",
       "    }\n",
       "</style>\n",
       "<table border=\"1\" class=\"dataframe\">\n",
       "  <thead>\n",
       "    <tr style=\"text-align: right;\">\n",
       "      <th></th>\n",
       "      <th>Summary Text</th>\n",
       "      <th>Sentiment Polarity</th>\n",
       "    </tr>\n",
       "  </thead>\n",
       "  <tbody>\n",
       "    <tr>\n",
       "      <th>0</th>\n",
       "      <td>A man went missing from a Carnival cruise ship...</td>\n",
       "      <td>-0.100000</td>\n",
       "    </tr>\n",
       "    <tr>\n",
       "      <th>1</th>\n",
       "      <td>The Central Bank of Nigeria (CBN) says that th...</td>\n",
       "      <td>-0.006667</td>\n",
       "    </tr>\n",
       "    <tr>\n",
       "      <th>2</th>\n",
       "      <td>I welcome progress here, as African nations ar...</td>\n",
       "      <td>0.115909</td>\n",
       "    </tr>\n",
       "    <tr>\n",
       "      <th>3</th>\n",
       "      <td>King Charles hosted his first state visit sinc...</td>\n",
       "      <td>0.077273</td>\n",
       "    </tr>\n",
       "    <tr>\n",
       "      <th>4</th>\n",
       "      <td>More than 100 people, including women and chil...</td>\n",
       "      <td>0.197619</td>\n",
       "    </tr>\n",
       "    <tr>\n",
       "      <th>5</th>\n",
       "      <td>But the staff of about a dozen were not offere...</td>\n",
       "      <td>-0.003571</td>\n",
       "    </tr>\n",
       "    <tr>\n",
       "      <th>6</th>\n",
       "      <td>CNN —Preliminary election results released by ...</td>\n",
       "      <td>0.077778</td>\n",
       "    </tr>\n",
       "    <tr>\n",
       "      <th>7</th>\n",
       "      <td>Mubende, Uganda CNN —Joseph Singiringabo has l...</td>\n",
       "      <td>0.250000</td>\n",
       "    </tr>\n",
       "    <tr>\n",
       "      <th>8</th>\n",
       "      <td>CNN —The Bill &amp; Melinda Gates Foundation said ...</td>\n",
       "      <td>0.162500</td>\n",
       "    </tr>\n",
       "  </tbody>\n",
       "</table>\n",
       "</div>"
      ],
      "text/plain": [
       "                                        Summary Text  Sentiment Polarity\n",
       "0  A man went missing from a Carnival cruise ship...           -0.100000\n",
       "1  The Central Bank of Nigeria (CBN) says that th...           -0.006667\n",
       "2  I welcome progress here, as African nations ar...            0.115909\n",
       "3  King Charles hosted his first state visit sinc...            0.077273\n",
       "4  More than 100 people, including women and chil...            0.197619\n",
       "5  But the staff of about a dozen were not offere...           -0.003571\n",
       "6  CNN —Preliminary election results released by ...            0.077778\n",
       "7  Mubende, Uganda CNN —Joseph Singiringabo has l...            0.250000\n",
       "8  CNN —The Bill & Melinda Gates Foundation said ...            0.162500"
      ]
     },
     "execution_count": 18,
     "metadata": {},
     "output_type": "execute_result"
    }
   ],
   "source": [
    "import pandas as pd\n",
    "\n",
    "\n",
    "df = pd.DataFrame({'Summary Text':summaryList,'Sentiment Polarity':polarityList})\n",
    "\n",
    "df"
   ]
  },
  {
   "cell_type": "markdown",
   "metadata": {},
   "source": [
    "# Saving as CSV"
   ]
  },
  {
   "cell_type": "code",
   "execution_count": 17,
   "metadata": {},
   "outputs": [],
   "source": [
    "df.to_csv(\"Analysis.csv\")"
   ]
  }
 ],
 "metadata": {
  "kernelspec": {
   "display_name": "Python 3.11.0 64-bit",
   "language": "python",
   "name": "python3"
  },
  "language_info": {
   "codemirror_mode": {
    "name": "ipython",
    "version": 3
   },
   "file_extension": ".py",
   "mimetype": "text/x-python",
   "name": "python",
   "nbconvert_exporter": "python",
   "pygments_lexer": "ipython3",
   "version": "3.11.0"
  },
  "orig_nbformat": 4,
  "vscode": {
   "interpreter": {
    "hash": "5f80c455da1dc101d9f66a16923589bd6dbb3429340af280f1efed2f72025e97"
   }
  }
 },
 "nbformat": 4,
 "nbformat_minor": 2
}
