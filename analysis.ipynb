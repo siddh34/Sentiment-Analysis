{
 "cells": [
  {
   "cell_type": "markdown",
   "metadata": {},
   "source": [
    "# Sentiment Analysis (News and Twitter Data)\n",
    "# 1. Realtime data will be analyzed (After running the code at that instant news and twits will be fetched)\n",
    "# 2. Data on certain topics will be analyzed\n",
    "# Let's move towards imports"
   ]
  },
  {
   "cell_type": "code",
   "execution_count": 8,
   "metadata": {},
   "outputs": [
    {
     "name": "stdout",
     "output_type": "stream",
     "text": [
      "Done\n"
     ]
    }
   ],
   "source": [
    "from newspaper import  Article\n",
    "import newspaper\n",
    "import pandas as pd\n",
    "from textblob import TextBlob\n",
    "import nltk\n",
    "import seaborn as sns\n",
    "print(\"Done\")"
   ]
  },
  {
   "cell_type": "markdown",
   "metadata": {},
   "source": [
    "# Fetching the articles"
   ]
  },
  {
   "cell_type": "code",
   "execution_count": 3,
   "metadata": {},
   "outputs": [],
   "source": [
    "site = newspaper.build(\"https://edition.cnn.com/?refresh=1\", memoize_articles=False)\n",
    "\n",
    "\n",
    "# get list of article URLs\n",
    "top_articles = site.article_urls()\n",
    "\n",
    "\n",
    "ar = top_articles[:90]"
   ]
  },
  {
   "cell_type": "code",
   "execution_count": 4,
   "metadata": {},
   "outputs": [
    {
     "data": {
      "text/plain": [
       "631"
      ]
     },
     "execution_count": 4,
     "metadata": {},
     "output_type": "execute_result"
    }
   ],
   "source": [
    "len(top_articles)"
   ]
  },
  {
   "cell_type": "code",
   "execution_count": 5,
   "metadata": {},
   "outputs": [
    {
     "name": "stderr",
     "output_type": "stream",
     "text": [
      "[nltk_data] Downloading package punkt to\n",
      "[nltk_data]     C:\\Users\\ADMIN\\AppData\\Roaming\\nltk_data...\n",
      "[nltk_data]   Package punkt is already up-to-date!\n"
     ]
    }
   ],
   "source": [
    "# top_articles.remove('http://www.slideshare.net/Wisec/http-parameter-pollution-a-new-category-of-web-attacks')\n",
    "\n",
    "nltk.download('punkt')\n",
    "\n",
    "summaryList = []\n",
    "\n",
    "ar1 = ar[1]\n",
    "\n",
    "\n",
    "for article in ar:\n",
    "    articles = Article(article,language=\"en\")\n",
    "    articles.download()\n",
    "    articles.parse()\n",
    "    articles.nlp()\n",
    "    text = articles.summary\n",
    "    summaryList.append(text)\n",
    "\n",
    "\n",
    "\n",
    "# print(summaryList)"
   ]
  },
  {
   "cell_type": "code",
   "execution_count": null,
   "metadata": {},
   "outputs": [],
   "source": [
    "# covid data "
   ]
  },
  {
   "cell_type": "markdown",
   "metadata": {},
   "source": [
    "# For twitter data"
   ]
  },
  {
   "cell_type": "code",
   "execution_count": 9,
   "metadata": {},
   "outputs": [
    {
     "data": {
      "text/html": [
       "<div>\n",
       "<style scoped>\n",
       "    .dataframe tbody tr th:only-of-type {\n",
       "        vertical-align: middle;\n",
       "    }\n",
       "\n",
       "    .dataframe tbody tr th {\n",
       "        vertical-align: top;\n",
       "    }\n",
       "\n",
       "    .dataframe thead th {\n",
       "        text-align: right;\n",
       "    }\n",
       "</style>\n",
       "<table border=\"1\" class=\"dataframe\">\n",
       "  <thead>\n",
       "    <tr style=\"text-align: right;\">\n",
       "      <th></th>\n",
       "      <th>Tweet Text</th>\n",
       "      <th>Likes</th>\n",
       "      <th>Time</th>\n",
       "    </tr>\n",
       "  </thead>\n",
       "  <tbody>\n",
       "    <tr>\n",
       "      <th>0</th>\n",
       "      <td>Hailey Bieber is once again trying to make it ...</td>\n",
       "      <td>44</td>\n",
       "      <td>2022-11-29 18:45:06+00:00</td>\n",
       "    </tr>\n",
       "    <tr>\n",
       "      <th>1</th>\n",
       "      <td>As frustrated demonstrators take to the street...</td>\n",
       "      <td>80</td>\n",
       "      <td>2022-11-29 18:30:10+00:00</td>\n",
       "    </tr>\n",
       "    <tr>\n",
       "      <th>2</th>\n",
       "      <td>A Finnish brand is bringing high fashion to an...</td>\n",
       "      <td>72</td>\n",
       "      <td>2022-11-29 18:15:09+00:00</td>\n",
       "    </tr>\n",
       "    <tr>\n",
       "      <th>3</th>\n",
       "      <td>Iranian soccer great Ali Karimi has alleged th...</td>\n",
       "      <td>220</td>\n",
       "      <td>2022-11-29 18:00:15+00:00</td>\n",
       "    </tr>\n",
       "    <tr>\n",
       "      <th>4</th>\n",
       "      <td>Twitter said it will no longer enforce its lon...</td>\n",
       "      <td>417</td>\n",
       "      <td>2022-11-29 17:45:09+00:00</td>\n",
       "    </tr>\n",
       "    <tr>\n",
       "      <th>...</th>\n",
       "      <td>...</td>\n",
       "      <td>...</td>\n",
       "      <td>...</td>\n",
       "    </tr>\n",
       "    <tr>\n",
       "      <th>95</th>\n",
       "      <td>The families of Iran’s World Cup soccer team h...</td>\n",
       "      <td>4780</td>\n",
       "      <td>2022-11-28 20:00:15+00:00</td>\n",
       "    </tr>\n",
       "    <tr>\n",
       "      <th>96</th>\n",
       "      <td>Cyber Monday is now projected to be the bigges...</td>\n",
       "      <td>246</td>\n",
       "      <td>2022-11-28 19:51:51+00:00</td>\n",
       "    </tr>\n",
       "    <tr>\n",
       "      <th>97</th>\n",
       "      <td>Merriam-Webster’s word of the year is “gasligh...</td>\n",
       "      <td>786</td>\n",
       "      <td>2022-11-28 19:37:09+00:00</td>\n",
       "    </tr>\n",
       "    <tr>\n",
       "      <th>98</th>\n",
       "      <td>More than 10,000 sippy cups and bottles produc...</td>\n",
       "      <td>143</td>\n",
       "      <td>2022-11-28 19:33:39+00:00</td>\n",
       "    </tr>\n",
       "    <tr>\n",
       "      <th>99</th>\n",
       "      <td>The body of Northern Arizona University profes...</td>\n",
       "      <td>129</td>\n",
       "      <td>2022-11-28 19:32:54+00:00</td>\n",
       "    </tr>\n",
       "  </tbody>\n",
       "</table>\n",
       "<p>100 rows × 3 columns</p>\n",
       "</div>"
      ],
      "text/plain": [
       "                                           Tweet Text  Likes  \\\n",
       "0   Hailey Bieber is once again trying to make it ...     44   \n",
       "1   As frustrated demonstrators take to the street...     80   \n",
       "2   A Finnish brand is bringing high fashion to an...     72   \n",
       "3   Iranian soccer great Ali Karimi has alleged th...    220   \n",
       "4   Twitter said it will no longer enforce its lon...    417   \n",
       "..                                                ...    ...   \n",
       "95  The families of Iran’s World Cup soccer team h...   4780   \n",
       "96  Cyber Monday is now projected to be the bigges...    246   \n",
       "97  Merriam-Webster’s word of the year is “gasligh...    786   \n",
       "98  More than 10,000 sippy cups and bottles produc...    143   \n",
       "99  The body of Northern Arizona University profes...    129   \n",
       "\n",
       "                         Time  \n",
       "0   2022-11-29 18:45:06+00:00  \n",
       "1   2022-11-29 18:30:10+00:00  \n",
       "2   2022-11-29 18:15:09+00:00  \n",
       "3   2022-11-29 18:00:15+00:00  \n",
       "4   2022-11-29 17:45:09+00:00  \n",
       "..                        ...  \n",
       "95  2022-11-28 20:00:15+00:00  \n",
       "96  2022-11-28 19:51:51+00:00  \n",
       "97  2022-11-28 19:37:09+00:00  \n",
       "98  2022-11-28 19:33:39+00:00  \n",
       "99  2022-11-28 19:32:54+00:00  \n",
       "\n",
       "[100 rows x 3 columns]"
      ]
     },
     "execution_count": 9,
     "metadata": {},
     "output_type": "execute_result"
    }
   ],
   "source": [
    "df1 = pd.read_csv(\"CNN.csv\")\n",
    "\n",
    "df1.drop('Unnamed: 0',axis=1)"
   ]
  },
  {
   "cell_type": "code",
   "execution_count": 17,
   "metadata": {},
   "outputs": [
    {
     "data": {
      "text/html": [
       "<div>\n",
       "<style scoped>\n",
       "    .dataframe tbody tr th:only-of-type {\n",
       "        vertical-align: middle;\n",
       "    }\n",
       "\n",
       "    .dataframe tbody tr th {\n",
       "        vertical-align: top;\n",
       "    }\n",
       "\n",
       "    .dataframe thead th {\n",
       "        text-align: right;\n",
       "    }\n",
       "</style>\n",
       "<table border=\"1\" class=\"dataframe\">\n",
       "  <thead>\n",
       "    <tr style=\"text-align: right;\">\n",
       "      <th></th>\n",
       "      <th>Tweet Text</th>\n",
       "      <th>Likes</th>\n",
       "      <th>Time</th>\n",
       "    </tr>\n",
       "  </thead>\n",
       "  <tbody>\n",
       "    <tr>\n",
       "      <th>0</th>\n",
       "      <td>Hailey Bieber is once again trying to make it ...</td>\n",
       "      <td>44</td>\n",
       "      <td>2022-11-29 18:45:06+00:00</td>\n",
       "    </tr>\n",
       "    <tr>\n",
       "      <th>1</th>\n",
       "      <td>As frustrated demonstrators take to the street...</td>\n",
       "      <td>80</td>\n",
       "      <td>2022-11-29 18:30:10+00:00</td>\n",
       "    </tr>\n",
       "    <tr>\n",
       "      <th>2</th>\n",
       "      <td>A Finnish brand is bringing high fashion to an...</td>\n",
       "      <td>72</td>\n",
       "      <td>2022-11-29 18:15:09+00:00</td>\n",
       "    </tr>\n",
       "    <tr>\n",
       "      <th>3</th>\n",
       "      <td>Iranian soccer great Ali Karimi has alleged th...</td>\n",
       "      <td>220</td>\n",
       "      <td>2022-11-29 18:00:15+00:00</td>\n",
       "    </tr>\n",
       "    <tr>\n",
       "      <th>4</th>\n",
       "      <td>Twitter said it will no longer enforce its lon...</td>\n",
       "      <td>417</td>\n",
       "      <td>2022-11-29 17:45:09+00:00</td>\n",
       "    </tr>\n",
       "    <tr>\n",
       "      <th>...</th>\n",
       "      <td>...</td>\n",
       "      <td>...</td>\n",
       "      <td>...</td>\n",
       "    </tr>\n",
       "    <tr>\n",
       "      <th>95</th>\n",
       "      <td>The families of Iran’s World Cup soccer team h...</td>\n",
       "      <td>4780</td>\n",
       "      <td>2022-11-28 20:00:15+00:00</td>\n",
       "    </tr>\n",
       "    <tr>\n",
       "      <th>96</th>\n",
       "      <td>Cyber Monday is now projected to be the bigges...</td>\n",
       "      <td>246</td>\n",
       "      <td>2022-11-28 19:51:51+00:00</td>\n",
       "    </tr>\n",
       "    <tr>\n",
       "      <th>97</th>\n",
       "      <td>Merriam-Webster’s word of the year is “gasligh...</td>\n",
       "      <td>786</td>\n",
       "      <td>2022-11-28 19:37:09+00:00</td>\n",
       "    </tr>\n",
       "    <tr>\n",
       "      <th>98</th>\n",
       "      <td>More than 10,000 sippy cups and bottles produc...</td>\n",
       "      <td>143</td>\n",
       "      <td>2022-11-28 19:33:39+00:00</td>\n",
       "    </tr>\n",
       "    <tr>\n",
       "      <th>99</th>\n",
       "      <td>The body of Northern Arizona University profes...</td>\n",
       "      <td>129</td>\n",
       "      <td>2022-11-28 19:32:54+00:00</td>\n",
       "    </tr>\n",
       "  </tbody>\n",
       "</table>\n",
       "<p>100 rows × 3 columns</p>\n",
       "</div>"
      ],
      "text/plain": [
       "                                           Tweet Text  Likes  \\\n",
       "0   Hailey Bieber is once again trying to make it ...     44   \n",
       "1   As frustrated demonstrators take to the street...     80   \n",
       "2   A Finnish brand is bringing high fashion to an...     72   \n",
       "3   Iranian soccer great Ali Karimi has alleged th...    220   \n",
       "4   Twitter said it will no longer enforce its lon...    417   \n",
       "..                                                ...    ...   \n",
       "95  The families of Iran’s World Cup soccer team h...   4780   \n",
       "96  Cyber Monday is now projected to be the bigges...    246   \n",
       "97  Merriam-Webster’s word of the year is “gasligh...    786   \n",
       "98  More than 10,000 sippy cups and bottles produc...    143   \n",
       "99  The body of Northern Arizona University profes...    129   \n",
       "\n",
       "                         Time  \n",
       "0   2022-11-29 18:45:06+00:00  \n",
       "1   2022-11-29 18:30:10+00:00  \n",
       "2   2022-11-29 18:15:09+00:00  \n",
       "3   2022-11-29 18:00:15+00:00  \n",
       "4   2022-11-29 17:45:09+00:00  \n",
       "..                        ...  \n",
       "95  2022-11-28 20:00:15+00:00  \n",
       "96  2022-11-28 19:51:51+00:00  \n",
       "97  2022-11-28 19:37:09+00:00  \n",
       "98  2022-11-28 19:33:39+00:00  \n",
       "99  2022-11-28 19:32:54+00:00  \n",
       "\n",
       "[100 rows x 3 columns]"
      ]
     },
     "execution_count": 17,
     "metadata": {},
     "output_type": "execute_result"
    }
   ],
   "source": [
    "# covid twits\n",
    "df2 = pd.read_csv(\"CNN.csv\")\n",
    "\n",
    "df2.drop('Unnamed: 0',axis=1)"
   ]
  },
  {
   "cell_type": "markdown",
   "metadata": {},
   "source": [
    "# Analysing the sentiment "
   ]
  },
  {
   "cell_type": "code",
   "execution_count": 18,
   "metadata": {},
   "outputs": [
    {
     "name": "stdout",
     "output_type": "stream",
     "text": [
      "[0.018749999999999996, -0.1, -0.02121212121212121, 0.36428571428571427, 0.06515151515151514, 0.17900432900432903, -0.1285714285714286, 0.05555555555555556, 0.2838095238095238, 0.32, 0.07583333333333334, 0.08888888888888889, 0.007373737373737384, 0.03333333333333333, 0.10972222222222222, 0.15208333333333332, -0.07916666666666666, 0.04772727272727273, 0.25, 0.1875, 0.07689393939393939, 0.14819444444444443, 0.12142857142857143, 0.096506734006734, 0.15000000000000002, 0.24074074074074073, 0.08837072018890199, 0.09642857142857142, 0.09230769230769233, 0.17307692307692307, 0.22187131050767414, 0.18888888888888888, 0.0527972027972028, 0.3055555555555556, 0.45095238095238094, 0.12159090909090908, 0.02500000000000001, 0.18463203463203462, 0.20681818181818185, 0.125, 0.21727272727272728, 0.13333333333333333, 0.1, 0.0, 0.06428571428571428, 0.25777777777777783, 0.005059523809523812, 0.25, 0.015734265734265732, 0.15353535353535352, 0.12666666666666665, 0.2, 0.16426767676767676, 0.17777777777777778, 0.018749999999999996, -0.04000000000000001, 0.09625000000000002, -0.006666666666666669, 0.13749999999999998, 0.07727272727272727, 0.19761904761904758, -0.5, 0.02266233766233766, 0.2572916666666667, 0.09642857142857143, 0.11590909090909092, -0.08166666666666667, 0.035881542699724524, -0.03055555555555556, -0.00833333333333334, -0.2866666666666667, -0.01666666666666667, 0.04047619047619048, 0.12727272727272726, 0.16666666666666666, 0.25, 0.22148760330578512, 0.21220238095238095, 0.15, 0.20666666666666667, 0.15043290043290045, -0.14242424242424245, 0.2, 0.018749999999999996, -0.019607843137254905, 0.2554315476190476, -0.06333333333333332, -0.14040404040404042, 0.2526666666666667, -0.05416666666666667]\n"
     ]
    }
   ],
   "source": [
    "polarityList = []\n",
    "\n",
    "for summary in summaryList:\n",
    "    blob = TextBlob(summary)\n",
    "    sentiment = blob.sentiment.polarity\n",
    "    polarityList.append(sentiment)\n",
    "\n",
    "print(polarityList)\n",
    "\n",
    "# polarity 0 - neutral, 1 - positive, 2 - negative"
   ]
  },
  {
   "cell_type": "code",
   "execution_count": 19,
   "metadata": {},
   "outputs": [
    {
     "data": {
      "text/plain": [
       "[-0.03333333333333332,\n",
       " -0.26666666666666666,\n",
       " 0.13,\n",
       " 0.23333333333333336,\n",
       " 0.03333333333333333,\n",
       " 0.40277777777777773,\n",
       " -0.2,\n",
       " 0.16666666666666669,\n",
       " 0.3333333333333333,\n",
       " -0.016666666666666663,\n",
       " 0.06666666666666667,\n",
       " 0.0,\n",
       " 0.1,\n",
       " 0.13809523809523808,\n",
       " 0.3,\n",
       " 0.11212121212121211,\n",
       " 0.03333333333333333,\n",
       " -0.0625,\n",
       " -0.15555555555555559,\n",
       " 0.07222222222222223,\n",
       " 0.2111111111111111,\n",
       " 0.0,\n",
       " 0.2,\n",
       " -0.06874999999999999,\n",
       " 0.0,\n",
       " 0.0,\n",
       " 0.25,\n",
       " -1.0,\n",
       " 0.125,\n",
       " 0.0,\n",
       " -0.06666666666666667,\n",
       " 0.0,\n",
       " -0.08888888888888889,\n",
       " 0.0,\n",
       " 0.03333333333333333,\n",
       " -0.04074074074074075,\n",
       " 0.0,\n",
       " 0.0,\n",
       " 0.40277777777777773,\n",
       " 0.1,\n",
       " 0.6,\n",
       " 0.22,\n",
       " 0.25,\n",
       " -0.175,\n",
       " 0.13333333333333333,\n",
       " 0.3333333333333333,\n",
       " 0.0,\n",
       " 0.05000000000000002,\n",
       " -0.006397306397306411,\n",
       " 0.03333333333333333,\n",
       " -0.13181818181818183,\n",
       " 0.0,\n",
       " 0.2,\n",
       " 0.2,\n",
       " 0.13,\n",
       " 0.0,\n",
       " -0.0625,\n",
       " 0.052000000000000005,\n",
       " 0.0,\n",
       " -0.1125,\n",
       " 0.2111111111111111,\n",
       " 0.3166666666666667,\n",
       " 0.04999999999999999,\n",
       " 0.21818181818181817,\n",
       " 0.0,\n",
       " -0.4,\n",
       " 0.35,\n",
       " 0.0,\n",
       " 0.225,\n",
       " 0.0,\n",
       " -0.3,\n",
       " 0.03333333333333334,\n",
       " 0.25,\n",
       " -0.1,\n",
       " -0.25,\n",
       " -0.00625,\n",
       " 0.0,\n",
       " -0.16666666666666666,\n",
       " 0.1125,\n",
       " 0.13636363636363635,\n",
       " 0.0,\n",
       " -1.0,\n",
       " -0.051851851851851864,\n",
       " 0.0,\n",
       " 0.1,\n",
       " 0.0,\n",
       " 0.0,\n",
       " -0.022916666666666655,\n",
       " -0.1888888888888889,\n",
       " 0.0]"
      ]
     },
     "execution_count": 19,
     "metadata": {},
     "output_type": "execute_result"
    }
   ],
   "source": [
    "twitSummaryList = []\n",
    "\n",
    "for text in df1['Tweet Text']:\n",
    "    blob = TextBlob(text)\n",
    "    sentiment = blob.sentiment.polarity\n",
    "    twitSummaryList.append(sentiment)\n",
    "\n",
    "twitSummaryList[:90]"
   ]
  },
  {
   "cell_type": "markdown",
   "metadata": {},
   "source": [
    "# Making a final CSV"
   ]
  },
  {
   "cell_type": "code",
   "execution_count": 20,
   "metadata": {},
   "outputs": [
    {
     "data": {
      "text/html": [
       "<div>\n",
       "<style scoped>\n",
       "    .dataframe tbody tr th:only-of-type {\n",
       "        vertical-align: middle;\n",
       "    }\n",
       "\n",
       "    .dataframe tbody tr th {\n",
       "        vertical-align: top;\n",
       "    }\n",
       "\n",
       "    .dataframe thead th {\n",
       "        text-align: right;\n",
       "    }\n",
       "</style>\n",
       "<table border=\"1\" class=\"dataframe\">\n",
       "  <thead>\n",
       "    <tr style=\"text-align: right;\">\n",
       "      <th></th>\n",
       "      <th>Summary Text</th>\n",
       "      <th>Sentiment Polarity</th>\n",
       "      <th>Twit_text</th>\n",
       "      <th>Sentiment Polarity Twitter</th>\n",
       "    </tr>\n",
       "  </thead>\n",
       "  <tbody>\n",
       "    <tr>\n",
       "      <th>0</th>\n",
       "      <td>How relevant is this ad to you?\\nVideo player ...</td>\n",
       "      <td>0.018750</td>\n",
       "      <td>Hailey Bieber is once again trying to make it ...</td>\n",
       "      <td>-0.033333</td>\n",
       "    </tr>\n",
       "    <tr>\n",
       "      <th>1</th>\n",
       "      <td>A man went missing from a Carnival cruise ship...</td>\n",
       "      <td>-0.100000</td>\n",
       "      <td>As frustrated demonstrators take to the street...</td>\n",
       "      <td>-0.266667</td>\n",
       "    </tr>\n",
       "    <tr>\n",
       "      <th>2</th>\n",
       "      <td>From the moment Emma Corrin appears on screen ...</td>\n",
       "      <td>-0.021212</td>\n",
       "      <td>A Finnish brand is bringing high fashion to an...</td>\n",
       "      <td>0.130000</td>\n",
       "    </tr>\n",
       "    <tr>\n",
       "      <th>3</th>\n",
       "      <td>Written by Jack Guy Christian Edwards, CNNArou...</td>\n",
       "      <td>0.364286</td>\n",
       "      <td>Iranian soccer great Ali Karimi has alleged th...</td>\n",
       "      <td>0.233333</td>\n",
       "    </tr>\n",
       "    <tr>\n",
       "      <th>4</th>\n",
       "      <td>Written by Oscar Holland, CNNWhen celebrated p...</td>\n",
       "      <td>0.065152</td>\n",
       "      <td>Twitter said it will no longer enforce its lon...</td>\n",
       "      <td>0.033333</td>\n",
       "    </tr>\n",
       "    <tr>\n",
       "      <th>...</th>\n",
       "      <td>...</td>\n",
       "      <td>...</td>\n",
       "      <td>...</td>\n",
       "      <td>...</td>\n",
       "    </tr>\n",
       "    <tr>\n",
       "      <th>85</th>\n",
       "      <td>But it’s coming under huge pressure from devel...</td>\n",
       "      <td>0.255432</td>\n",
       "      <td>Helena Bonham Carter is coming to the defense ...</td>\n",
       "      <td>0.000000</td>\n",
       "    </tr>\n",
       "    <tr>\n",
       "      <th>86</th>\n",
       "      <td>Aisha Salaudeen , CNN Written byIn a coffee sh...</td>\n",
       "      <td>-0.063333</td>\n",
       "      <td>In a media conference on Monday, Tyler Adams w...</td>\n",
       "      <td>0.000000</td>\n",
       "    </tr>\n",
       "    <tr>\n",
       "      <th>87</th>\n",
       "      <td>Bethlehem and Jerusalem CNN —At least six Pale...</td>\n",
       "      <td>-0.140404</td>\n",
       "      <td>Online Black Friday sales in the United States...</td>\n",
       "      <td>-0.022917</td>\n",
       "    </tr>\n",
       "    <tr>\n",
       "      <th>88</th>\n",
       "      <td>Basel Christmas Market, SwitzerlandBasel Chris...</td>\n",
       "      <td>0.252667</td>\n",
       "      <td>The label on a cup of Velveeta’s microwaveable...</td>\n",
       "      <td>-0.188889</td>\n",
       "    </tr>\n",
       "    <tr>\n",
       "      <th>89</th>\n",
       "      <td>The picturesque town of Presicce in the sunny ...</td>\n",
       "      <td>-0.054167</td>\n",
       "      <td>Dr. Anthony Fauci, the soon-retiring medical a...</td>\n",
       "      <td>0.000000</td>\n",
       "    </tr>\n",
       "  </tbody>\n",
       "</table>\n",
       "<p>90 rows × 4 columns</p>\n",
       "</div>"
      ],
      "text/plain": [
       "                                         Summary Text  Sentiment Polarity  \\\n",
       "0   How relevant is this ad to you?\\nVideo player ...            0.018750   \n",
       "1   A man went missing from a Carnival cruise ship...           -0.100000   \n",
       "2   From the moment Emma Corrin appears on screen ...           -0.021212   \n",
       "3   Written by Jack Guy Christian Edwards, CNNArou...            0.364286   \n",
       "4   Written by Oscar Holland, CNNWhen celebrated p...            0.065152   \n",
       "..                                                ...                 ...   \n",
       "85  But it’s coming under huge pressure from devel...            0.255432   \n",
       "86  Aisha Salaudeen , CNN Written byIn a coffee sh...           -0.063333   \n",
       "87  Bethlehem and Jerusalem CNN —At least six Pale...           -0.140404   \n",
       "88  Basel Christmas Market, SwitzerlandBasel Chris...            0.252667   \n",
       "89  The picturesque town of Presicce in the sunny ...           -0.054167   \n",
       "\n",
       "                                            Twit_text  \\\n",
       "0   Hailey Bieber is once again trying to make it ...   \n",
       "1   As frustrated demonstrators take to the street...   \n",
       "2   A Finnish brand is bringing high fashion to an...   \n",
       "3   Iranian soccer great Ali Karimi has alleged th...   \n",
       "4   Twitter said it will no longer enforce its lon...   \n",
       "..                                                ...   \n",
       "85  Helena Bonham Carter is coming to the defense ...   \n",
       "86  In a media conference on Monday, Tyler Adams w...   \n",
       "87  Online Black Friday sales in the United States...   \n",
       "88  The label on a cup of Velveeta’s microwaveable...   \n",
       "89  Dr. Anthony Fauci, the soon-retiring medical a...   \n",
       "\n",
       "    Sentiment Polarity Twitter  \n",
       "0                    -0.033333  \n",
       "1                    -0.266667  \n",
       "2                     0.130000  \n",
       "3                     0.233333  \n",
       "4                     0.033333  \n",
       "..                         ...  \n",
       "85                    0.000000  \n",
       "86                    0.000000  \n",
       "87                   -0.022917  \n",
       "88                   -0.188889  \n",
       "89                    0.000000  \n",
       "\n",
       "[90 rows x 4 columns]"
      ]
     },
     "execution_count": 20,
     "metadata": {},
     "output_type": "execute_result"
    }
   ],
   "source": [
    "df = pd.DataFrame({'Summary Text':summaryList[:90],'Sentiment Polarity':polarityList[:90],'Twit_text': df1['Tweet Text'][:90],'Sentiment Polarity Twitter': twitSummaryList[:90]})\n",
    "\n",
    "df\n",
    "df"
   ]
  },
  {
   "cell_type": "markdown",
   "metadata": {},
   "source": [
    "# Saving as CSV"
   ]
  },
  {
   "cell_type": "code",
   "execution_count": 17,
   "metadata": {},
   "outputs": [],
   "source": [
    "df.to_csv(\"Analysis.csv\")"
   ]
  },
  {
   "cell_type": "markdown",
   "metadata": {},
   "source": [
    "# Data Visualization (Part 1)"
   ]
  },
  {
   "cell_type": "code",
   "execution_count": null,
   "metadata": {},
   "outputs": [],
   "source": [
    "# TODO: Bar graph (Positive values)"
   ]
  },
  {
   "cell_type": "code",
   "execution_count": null,
   "metadata": {},
   "outputs": [],
   "source": [
    "# TODO: Bar graph (Negative values)"
   ]
  },
  {
   "cell_type": "code",
   "execution_count": null,
   "metadata": {},
   "outputs": [],
   "source": [
    "#  TODO: Pie Chart"
   ]
  },
  {
   "cell_type": "markdown",
   "metadata": {},
   "source": [
    "# Part 2"
   ]
  },
  {
   "cell_type": "code",
   "execution_count": null,
   "metadata": {},
   "outputs": [],
   "source": []
  }
 ],
 "metadata": {
  "kernelspec": {
   "display_name": "Python 3.9.5 64-bit",
   "language": "python",
   "name": "python3"
  },
  "language_info": {
   "codemirror_mode": {
    "name": "ipython",
    "version": 3
   },
   "file_extension": ".py",
   "mimetype": "text/x-python",
   "name": "python",
   "nbconvert_exporter": "python",
   "pygments_lexer": "ipython3",
   "version": "3.9.5"
  },
  "orig_nbformat": 4,
  "vscode": {
   "interpreter": {
    "hash": "11938c6bc6919ae2720b4d5011047913343b08a43b18698fd82dedb0d4417594"
   }
  }
 },
 "nbformat": 4,
 "nbformat_minor": 2
}
