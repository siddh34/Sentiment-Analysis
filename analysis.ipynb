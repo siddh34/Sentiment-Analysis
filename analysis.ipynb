{
 "cells": [
  {
   "cell_type": "markdown",
   "metadata": {},
   "source": [
    "# Sentiment Analysis (News and Twitter Data)\n",
    "\n",
    "## 1. Realtime data will be analyzed (After running the code at that instant news and twits will be fetched)\n",
    "## 2. Data on certain topics will be analyzed"
   ]
  },
  {
   "cell_type": "markdown",
   "metadata": {},
   "source": [
    "# Let's move towards imports "
   ]
  },
  {
   "cell_type": "code",
   "execution_count": 7,
   "metadata": {},
   "outputs": [
    {
     "name": "stdout",
     "output_type": "stream",
     "text": [
      "Done\n"
     ]
    }
   ],
   "source": [
    "from newspaper import  Article\n",
    "import newspaper\n",
    "import pandas as pd\n",
    "from textblob import TextBlob\n",
    "import nltk\n",
    "print(\"Done\")"
   ]
  },
  {
   "cell_type": "markdown",
   "metadata": {},
   "source": [
    "# Fetching the articles"
   ]
  },
  {
   "cell_type": "code",
   "execution_count": 2,
   "metadata": {},
   "outputs": [],
   "source": [
    "site = newspaper.build(\"https://edition.cnn.com/?refresh=1\", memoize_articles=False)\n",
    "\n",
    "\n",
    "# get list of article URLs\n",
    "top_articles = site.article_urls()\n",
    "\n",
    "\n",
    "ar = top_articles[1:10]"
   ]
  },
  {
   "cell_type": "code",
   "execution_count": 3,
   "metadata": {},
   "outputs": [
    {
     "data": {
      "text/plain": [
       "613"
      ]
     },
     "execution_count": 3,
     "metadata": {},
     "output_type": "execute_result"
    }
   ],
   "source": [
    "len(top_articles)"
   ]
  },
  {
   "cell_type": "code",
   "execution_count": 4,
   "metadata": {},
   "outputs": [
    {
     "name": "stderr",
     "output_type": "stream",
     "text": [
      "[nltk_data] Downloading package punkt to\n",
      "[nltk_data]     C:\\Users\\ADMIN\\AppData\\Roaming\\nltk_data...\n",
      "[nltk_data]   Package punkt is already up-to-date!\n"
     ]
    }
   ],
   "source": [
    "# top_articles.remove('http://www.slideshare.net/Wisec/http-parameter-pollution-a-new-category-of-web-attacks')\n",
    "\n",
    "nltk.download('punkt')\n",
    "\n",
    "summaryList = []\n",
    "\n",
    "ar1 = ar[1]\n",
    "\n",
    "\n",
    "for article in ar:\n",
    "    articles = Article(article,language=\"en\")\n",
    "    articles.download()\n",
    "    articles.parse()\n",
    "    articles.nlp()\n",
    "    text = articles.summary\n",
    "    summaryList.append(text)\n",
    "\n",
    "# print(summaryList)"
   ]
  },
  {
   "cell_type": "markdown",
   "metadata": {},
   "source": [
    "## For Twitter data"
   ]
  },
  {
   "cell_type": "code",
   "execution_count": 18,
   "metadata": {},
   "outputs": [
    {
     "data": {
      "text/html": [
       "<div>\n",
       "<style scoped>\n",
       "    .dataframe tbody tr th:only-of-type {\n",
       "        vertical-align: middle;\n",
       "    }\n",
       "\n",
       "    .dataframe tbody tr th {\n",
       "        vertical-align: top;\n",
       "    }\n",
       "\n",
       "    .dataframe thead th {\n",
       "        text-align: right;\n",
       "    }\n",
       "</style>\n",
       "<table border=\"1\" class=\"dataframe\">\n",
       "  <thead>\n",
       "    <tr style=\"text-align: right;\">\n",
       "      <th></th>\n",
       "      <th>Tweet Text</th>\n",
       "      <th>Likes</th>\n",
       "      <th>Time</th>\n",
       "    </tr>\n",
       "  </thead>\n",
       "  <tbody>\n",
       "    <tr>\n",
       "      <th>0</th>\n",
       "      <td>Hailey Bieber is once again trying to make it ...</td>\n",
       "      <td>44</td>\n",
       "      <td>2022-11-29 18:45:06+00:00</td>\n",
       "    </tr>\n",
       "    <tr>\n",
       "      <th>1</th>\n",
       "      <td>As frustrated demonstrators take to the street...</td>\n",
       "      <td>80</td>\n",
       "      <td>2022-11-29 18:30:10+00:00</td>\n",
       "    </tr>\n",
       "    <tr>\n",
       "      <th>2</th>\n",
       "      <td>A Finnish brand is bringing high fashion to an...</td>\n",
       "      <td>72</td>\n",
       "      <td>2022-11-29 18:15:09+00:00</td>\n",
       "    </tr>\n",
       "    <tr>\n",
       "      <th>3</th>\n",
       "      <td>Iranian soccer great Ali Karimi has alleged th...</td>\n",
       "      <td>220</td>\n",
       "      <td>2022-11-29 18:00:15+00:00</td>\n",
       "    </tr>\n",
       "    <tr>\n",
       "      <th>4</th>\n",
       "      <td>Twitter said it will no longer enforce its lon...</td>\n",
       "      <td>417</td>\n",
       "      <td>2022-11-29 17:45:09+00:00</td>\n",
       "    </tr>\n",
       "    <tr>\n",
       "      <th>...</th>\n",
       "      <td>...</td>\n",
       "      <td>...</td>\n",
       "      <td>...</td>\n",
       "    </tr>\n",
       "    <tr>\n",
       "      <th>95</th>\n",
       "      <td>The families of Iran’s World Cup soccer team h...</td>\n",
       "      <td>4780</td>\n",
       "      <td>2022-11-28 20:00:15+00:00</td>\n",
       "    </tr>\n",
       "    <tr>\n",
       "      <th>96</th>\n",
       "      <td>Cyber Monday is now projected to be the bigges...</td>\n",
       "      <td>246</td>\n",
       "      <td>2022-11-28 19:51:51+00:00</td>\n",
       "    </tr>\n",
       "    <tr>\n",
       "      <th>97</th>\n",
       "      <td>Merriam-Webster’s word of the year is “gasligh...</td>\n",
       "      <td>786</td>\n",
       "      <td>2022-11-28 19:37:09+00:00</td>\n",
       "    </tr>\n",
       "    <tr>\n",
       "      <th>98</th>\n",
       "      <td>More than 10,000 sippy cups and bottles produc...</td>\n",
       "      <td>143</td>\n",
       "      <td>2022-11-28 19:33:39+00:00</td>\n",
       "    </tr>\n",
       "    <tr>\n",
       "      <th>99</th>\n",
       "      <td>The body of Northern Arizona University profes...</td>\n",
       "      <td>129</td>\n",
       "      <td>2022-11-28 19:32:54+00:00</td>\n",
       "    </tr>\n",
       "  </tbody>\n",
       "</table>\n",
       "<p>100 rows × 3 columns</p>\n",
       "</div>"
      ],
      "text/plain": [
       "                                           Tweet Text  Likes  \\\n",
       "0   Hailey Bieber is once again trying to make it ...     44   \n",
       "1   As frustrated demonstrators take to the street...     80   \n",
       "2   A Finnish brand is bringing high fashion to an...     72   \n",
       "3   Iranian soccer great Ali Karimi has alleged th...    220   \n",
       "4   Twitter said it will no longer enforce its lon...    417   \n",
       "..                                                ...    ...   \n",
       "95  The families of Iran’s World Cup soccer team h...   4780   \n",
       "96  Cyber Monday is now projected to be the bigges...    246   \n",
       "97  Merriam-Webster’s word of the year is “gasligh...    786   \n",
       "98  More than 10,000 sippy cups and bottles produc...    143   \n",
       "99  The body of Northern Arizona University profes...    129   \n",
       "\n",
       "                         Time  \n",
       "0   2022-11-29 18:45:06+00:00  \n",
       "1   2022-11-29 18:30:10+00:00  \n",
       "2   2022-11-29 18:15:09+00:00  \n",
       "3   2022-11-29 18:00:15+00:00  \n",
       "4   2022-11-29 17:45:09+00:00  \n",
       "..                        ...  \n",
       "95  2022-11-28 20:00:15+00:00  \n",
       "96  2022-11-28 19:51:51+00:00  \n",
       "97  2022-11-28 19:37:09+00:00  \n",
       "98  2022-11-28 19:33:39+00:00  \n",
       "99  2022-11-28 19:32:54+00:00  \n",
       "\n",
       "[100 rows x 3 columns]"
      ]
     },
     "execution_count": 18,
     "metadata": {},
     "output_type": "execute_result"
    }
   ],
   "source": [
    "df1 = pd.read_csv(\"CNN.csv\")\n",
    "\n",
    "df1.drop('Unnamed: 0',axis=1)"
   ]
  },
  {
   "cell_type": "markdown",
   "metadata": {},
   "source": [
    "# Analysing the sentiment "
   ]
  },
  {
   "cell_type": "code",
   "execution_count": 19,
   "metadata": {},
   "outputs": [
    {
     "name": "stdout",
     "output_type": "stream",
     "text": [
      "[-0.1, -0.02121212121212121, 0.36428571428571427, 0.06515151515151514, 0.05555555555555556, -0.1285714285714286, 0.2838095238095238, 0.1798809523809524, 0.32]\n"
     ]
    }
   ],
   "source": [
    "polarityList = []\n",
    "\n",
    "for summary in summaryList:\n",
    "    blob = TextBlob(summary)\n",
    "    sentiment = blob.sentiment.polarity\n",
    "    polarityList.append(sentiment)\n",
    "\n",
    "print(polarityList)\n",
    "\n",
    "# polarity 0 - neutral, 1 - positive, 2 - negative"
   ]
  },
  {
   "cell_type": "code",
   "execution_count": 20,
   "metadata": {},
   "outputs": [
    {
     "data": {
      "text/plain": [
       "[-0.03333333333333332,\n",
       " -0.26666666666666666,\n",
       " 0.13,\n",
       " 0.23333333333333336,\n",
       " 0.03333333333333333,\n",
       " 0.40277777777777773,\n",
       " -0.2,\n",
       " 0.16666666666666669,\n",
       " 0.3333333333333333,\n",
       " -0.016666666666666663]"
      ]
     },
     "execution_count": 20,
     "metadata": {},
     "output_type": "execute_result"
    }
   ],
   "source": [
    "twitSummaryList = []\n",
    "\n",
    "for text in df1['Tweet Text']:\n",
    "    blob = TextBlob(text)\n",
    "    sentiment = blob.sentiment.polarity\n",
    "    twitSummaryList.append(sentiment)\n",
    "\n",
    "twitSummaryList[:10]"
   ]
  },
  {
   "cell_type": "markdown",
   "metadata": {},
   "source": [
    "# Making a final CSV"
   ]
  },
  {
   "cell_type": "code",
   "execution_count": 21,
   "metadata": {},
   "outputs": [
    {
     "data": {
      "text/html": [
       "<div>\n",
       "<style scoped>\n",
       "    .dataframe tbody tr th:only-of-type {\n",
       "        vertical-align: middle;\n",
       "    }\n",
       "\n",
       "    .dataframe tbody tr th {\n",
       "        vertical-align: top;\n",
       "    }\n",
       "\n",
       "    .dataframe thead th {\n",
       "        text-align: right;\n",
       "    }\n",
       "</style>\n",
       "<table border=\"1\" class=\"dataframe\">\n",
       "  <thead>\n",
       "    <tr style=\"text-align: right;\">\n",
       "      <th></th>\n",
       "      <th>Summary Text</th>\n",
       "      <th>Sentiment Polarity</th>\n",
       "      <th>Twit_text</th>\n",
       "      <th>Sentiment Polarity Twitter</th>\n",
       "    </tr>\n",
       "  </thead>\n",
       "  <tbody>\n",
       "    <tr>\n",
       "      <th>1</th>\n",
       "      <td>A man went missing from a Carnival cruise ship...</td>\n",
       "      <td>-0.100000</td>\n",
       "      <td>As frustrated demonstrators take to the street...</td>\n",
       "      <td>-0.266667</td>\n",
       "    </tr>\n",
       "    <tr>\n",
       "      <th>2</th>\n",
       "      <td>From the moment Emma Corrin appears on screen ...</td>\n",
       "      <td>-0.021212</td>\n",
       "      <td>A Finnish brand is bringing high fashion to an...</td>\n",
       "      <td>0.130000</td>\n",
       "    </tr>\n",
       "    <tr>\n",
       "      <th>3</th>\n",
       "      <td>Written by Jack Guy Christian Edwards, CNNArou...</td>\n",
       "      <td>0.364286</td>\n",
       "      <td>Iranian soccer great Ali Karimi has alleged th...</td>\n",
       "      <td>0.233333</td>\n",
       "    </tr>\n",
       "    <tr>\n",
       "      <th>4</th>\n",
       "      <td>Written by Oscar Holland, CNNWhen celebrated p...</td>\n",
       "      <td>0.065152</td>\n",
       "      <td>Twitter said it will no longer enforce its lon...</td>\n",
       "      <td>0.033333</td>\n",
       "    </tr>\n",
       "    <tr>\n",
       "      <th>5</th>\n",
       "      <td>Kendall paired a $4,200 Bottega Veneta bag wit...</td>\n",
       "      <td>0.055556</td>\n",
       "      <td>Clarence Gilyard Jr., the actor best known for...</td>\n",
       "      <td>0.402778</td>\n",
       "    </tr>\n",
       "    <tr>\n",
       "      <th>6</th>\n",
       "      <td>Balenciaga is seeking at least $25 million in ...</td>\n",
       "      <td>-0.128571</td>\n",
       "      <td>Firearm deaths surged in the US during the Cov...</td>\n",
       "      <td>-0.200000</td>\n",
       "    </tr>\n",
       "    <tr>\n",
       "      <th>7</th>\n",
       "      <td>Written by Toyin Owoseje, CNNCelebrated Britis...</td>\n",
       "      <td>0.283810</td>\n",
       "      <td>World Cup chief Hassan Al-Thawadi said that be...</td>\n",
       "      <td>0.166667</td>\n",
       "    </tr>\n",
       "    <tr>\n",
       "      <th>8</th>\n",
       "      <td>Written by Marianna Cerini, CNN Milan, ItalyPi...</td>\n",
       "      <td>0.179881</td>\n",
       "      <td>A family in Fort Worth, Texas, has been reunit...</td>\n",
       "      <td>0.333333</td>\n",
       "    </tr>\n",
       "    <tr>\n",
       "      <th>9</th>\n",
       "      <td>\"The serene and calming aesthetics of Japandi ...</td>\n",
       "      <td>0.320000</td>\n",
       "      <td>Mauna Loa, the world's largest active volcano,...</td>\n",
       "      <td>-0.016667</td>\n",
       "    </tr>\n",
       "  </tbody>\n",
       "</table>\n",
       "</div>"
      ],
      "text/plain": [
       "                                        Summary Text  Sentiment Polarity  \\\n",
       "1  A man went missing from a Carnival cruise ship...           -0.100000   \n",
       "2  From the moment Emma Corrin appears on screen ...           -0.021212   \n",
       "3  Written by Jack Guy Christian Edwards, CNNArou...            0.364286   \n",
       "4  Written by Oscar Holland, CNNWhen celebrated p...            0.065152   \n",
       "5  Kendall paired a $4,200 Bottega Veneta bag wit...            0.055556   \n",
       "6  Balenciaga is seeking at least $25 million in ...           -0.128571   \n",
       "7  Written by Toyin Owoseje, CNNCelebrated Britis...            0.283810   \n",
       "8  Written by Marianna Cerini, CNN Milan, ItalyPi...            0.179881   \n",
       "9  \"The serene and calming aesthetics of Japandi ...            0.320000   \n",
       "\n",
       "                                           Twit_text  \\\n",
       "1  As frustrated demonstrators take to the street...   \n",
       "2  A Finnish brand is bringing high fashion to an...   \n",
       "3  Iranian soccer great Ali Karimi has alleged th...   \n",
       "4  Twitter said it will no longer enforce its lon...   \n",
       "5  Clarence Gilyard Jr., the actor best known for...   \n",
       "6  Firearm deaths surged in the US during the Cov...   \n",
       "7  World Cup chief Hassan Al-Thawadi said that be...   \n",
       "8  A family in Fort Worth, Texas, has been reunit...   \n",
       "9  Mauna Loa, the world's largest active volcano,...   \n",
       "\n",
       "   Sentiment Polarity Twitter  \n",
       "1                   -0.266667  \n",
       "2                    0.130000  \n",
       "3                    0.233333  \n",
       "4                    0.033333  \n",
       "5                    0.402778  \n",
       "6                   -0.200000  \n",
       "7                    0.166667  \n",
       "8                    0.333333  \n",
       "9                   -0.016667  "
      ]
     },
     "execution_count": 21,
     "metadata": {},
     "output_type": "execute_result"
    }
   ],
   "source": [
    "df = pd.DataFrame({'Summary Text':summaryList,'Sentiment Polarity':polarityList,'Twit_text': df1['Tweet Text'][1:10],'Sentiment Polarity Twitter': twitSummaryList[1:10]})\n",
    "\n",
    "df"
   ]
  },
  {
   "cell_type": "markdown",
   "metadata": {},
   "source": [
    "# Saving as CSV"
   ]
  },
  {
   "cell_type": "code",
   "execution_count": 22,
   "metadata": {},
   "outputs": [],
   "source": [
    "df.to_csv(\"Analysis.csv\")"
   ]
  }
 ],
 "metadata": {
  "kernelspec": {
   "display_name": "Python 3.11.0 64-bit",
   "language": "python",
   "name": "python3"
  },
  "language_info": {
   "codemirror_mode": {
    "name": "ipython",
    "version": 3
   },
   "file_extension": ".py",
   "mimetype": "text/x-python",
   "name": "python",
   "nbconvert_exporter": "python",
   "pygments_lexer": "ipython3",
   "version": "3.11.0"
  },
  "orig_nbformat": 4,
  "vscode": {
   "interpreter": {
    "hash": "5f80c455da1dc101d9f66a16923589bd6dbb3429340af280f1efed2f72025e97"
   }
  }
 },
 "nbformat": 4,
 "nbformat_minor": 2
}
